{
 "cells": [
  {
   "cell_type": "code",
   "execution_count": null,
   "metadata": {},
   "outputs": [],
   "source": [
    "import sys\n",
    "import fitz ##pip install pyMupdf\n",
    "import subprocess\n",
    "doc1 = fitz.open(input(\"document to be modified : \"))\n",
    "doc2 = fitz.open(input(\"final document : \"))\n",
    "tmpImg = input(\" temperory image storage folder : \")"
   ]
  },
  {
   "cell_type": "code",
   "execution_count": 11,
   "metadata": {},
   "outputs": [],
   "source": [
    "\n",
    "def pdftoimages(doc,k):\n",
    "    for i in range(len(doc)):\n",
    "        for img in doc.getPageImageList(i):\n",
    "            xref = img[0]\n",
    "            pix = fitz.Pixmap(doc, xref)\n",
    "            if pix.n < 5:       \n",
    "                pix.writePNG(tmpImg+\"/pdf%sImage%s.png\" % (k,i))  \n",
    "            else:               \n",
    "                pix1 = fitz.Pixmap(fitz.csRGB, pix)\n",
    "                pix1.writePNG(tmpImg+\"/pdf%sImage%s.png\" % (k,i)) \n",
    "                pix1 = None\n",
    "            pix = None\n",
    "\n",
    "pdftoimages(doc1,1)\n",
    "pdftoimages(doc2,2)\n",
    "\n",
    "for i in range(len(doc1)):\n",
    "    cmd=\"compare -metric rmse -fuzz 10% \"+tmpImg+\"/pdf1Image\"+str(i)+\".png \"+tmpImg+\"/pdf2Image\"+str(i)+\".png -highlight-color red \"+tmpImg+\"/comparePDF\"+str(i)+\".png\"\n",
    "    subprocess.call(cmd, shell=True)\n"
   ]
  },
  {
   "cell_type": "code",
   "execution_count": null,
   "metadata": {},
   "outputs": [],
   "source": []
  }
 ],
 "metadata": {
  "kernelspec": {
   "display_name": "Python 3",
   "language": "python",
   "name": "python3"
  },
  "language_info": {
   "codemirror_mode": {
    "name": "ipython",
    "version": 3
   },
   "file_extension": ".py",
   "mimetype": "text/x-python",
   "name": "python",
   "nbconvert_exporter": "python",
   "pygments_lexer": "ipython3",
   "version": "3.6.5"
  }
 },
 "nbformat": 4,
 "nbformat_minor": 2
}
